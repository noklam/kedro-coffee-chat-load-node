{
 "cells": [
  {
   "cell_type": "code",
   "execution_count": null,
   "metadata": {},
   "outputs": [],
   "source": [
    "# pip install kedro[jupyter]"
   ]
  },
  {
   "cell_type": "markdown",
   "metadata": {},
   "source": [
    "# Using the %load_node magic to debug and prototype node quickly"
   ]
  },
  {
   "cell_type": "code",
   "execution_count": null,
   "metadata": {},
   "outputs": [],
   "source": [
    "%load_ext kedro.ipython\n",
    "# Or start your notebook with kedro jupyter notebook / kedro jupyter lab"
   ]
  },
  {
   "cell_type": "code",
   "execution_count": null,
   "metadata": {},
   "outputs": [],
   "source": [
    "%load_node? # Shift-Tab"
   ]
  },
  {
   "cell_type": "markdown",
   "metadata": {},
   "source": [
    "### Pre-requisites\n",
    "- Requires node name (optional argument when definte a node) \n",
    "- Data need to be persisted"
   ]
  },
  {
   "cell_type": "code",
   "execution_count": null,
   "metadata": {},
   "outputs": [],
   "source": [
    "%load_node create_model_input_table_node"
   ]
  },
  {
   "cell_type": "code",
   "execution_count": null,
   "metadata": {},
   "outputs": [],
   "source": [
    "# Prepare necessary inputs for debugging\n",
    "# All debugging inputs must be defined in your project catalog\n",
    "shuttles = catalog.load(\"preprocessed_shuttles\")\n",
    "companies = catalog.load(\"preprocessed_companies\")\n",
    "reviews = catalog.load(\"reviews\")"
   ]
  },
  {
   "cell_type": "code",
   "execution_count": null,
   "metadata": {},
   "outputs": [],
   "source": [
    "import pandas as pd"
   ]
  },
  {
   "cell_type": "code",
   "execution_count": null,
   "metadata": {},
   "outputs": [],
   "source": [
    "rated_shuttles = shuttles.merge(reviews, left_on=\"id\", right_on=\"shuttle_id\")\n",
    "rated_shuttles = rated_shuttles.drop(\"id\", axis=1)"
   ]
  },
  {
   "cell_type": "code",
   "execution_count": null,
   "metadata": {},
   "outputs": [],
   "source": [
    "companies.head().T"
   ]
  },
  {
   "cell_type": "code",
   "execution_count": null,
   "metadata": {},
   "outputs": [],
   "source": [
    "model_input_table = rated_shuttles.merge(\n",
    "    companies, left_on=\"company_id\", right_on=\"id\"\n",
    ")\n",
    "model_input_table = model_input_table.dropna()\n",
    "# return model_input_table\n",
    "model_input_table.head().T"
   ]
  },
  {
   "cell_type": "code",
   "execution_count": null,
   "metadata": {},
   "outputs": [],
   "source": [
    "create_model_input_table(shuttles, companies, reviews)"
   ]
  },
  {
   "cell_type": "markdown",
   "metadata": {
    "jp-MarkdownHeadingCollapsed": true
   },
   "source": [
    "# Debug Effectively\n",
    "- Debug function, not pipeline\n",
    "- Narrow your scope (log, checkpoint), think about unit tests!\n",
    "- Read the logs (tips: you can click the log and jump into the definition)\n",
    "- See if you can go beyond `kedro run` or `kedro run --pipeline <pipeline>` (explore the options! [kedro-viz](demo.kedro.org) can help) "
   ]
  },
  {
   "cell_type": "code",
   "execution_count": null,
   "metadata": {},
   "outputs": [],
   "source": [
    "!cd ../ && kedro run --help\n"
   ]
  },
  {
   "cell_type": "markdown",
   "metadata": {},
   "source": [
    "```\n",
    "INFO     Running node: create_model_input_table_node:                                 node.py:340\n",
    "            create_model_input_table([preprocessed_shuttles;preprocessed_companies;revie\n",
    "            ws]) -> [model_input_table]\n",
    "ERROR    Node create_model_input_table_node: create_model_input_table() ->  failed    node.py:365\n",
    "            with error:\n",
    "            'company_id'\n",
    "WARNING  There are 4 nodes that have not run.                                       runner.py:218\n",
    "            You can resume the pipeline run from the nearest nodes with persisted\n",
    "            inputs by adding the following argument to your previous command:\n",
    "            --from-nodes \"create_model_input_table_node\"\n",
    "```"
   ]
  },
  {
   "cell_type": "code",
   "execution_count": null,
   "metadata": {},
   "outputs": [],
   "source": []
  }
 ],
 "metadata": {
  "kernelspec": {
   "display_name": "Python 3 (ipykernel)",
   "language": "python",
   "name": "python3"
  },
  "language_info": {
   "codemirror_mode": {
    "name": "ipython",
    "version": 3
   },
   "file_extension": ".py",
   "mimetype": "text/x-python",
   "name": "python",
   "nbconvert_exporter": "python",
   "pygments_lexer": "ipython3",
   "version": "3.10.13"
  }
 },
 "nbformat": 4,
 "nbformat_minor": 4
}
